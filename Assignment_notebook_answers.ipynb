{
 "cells": [
  {
   "cell_type": "code",
   "execution_count": 1,
   "metadata": {
    "colab": {
     "base_uri": "https://localhost:8080/"
    },
    "id": "DhN9ugpk-sIY",
    "outputId": "4113f4bb-bc17-410f-af54-81eb25bd7c40"
   },
   "outputs": [
    {
     "name": "stdout",
     "output_type": "stream",
     "text": [
      "Requirement already satisfied: numpy in /usr/local/lib/python3.11/dist-packages (2.0.2)\n",
      "Requirement already satisfied: pandas in /usr/local/lib/python3.11/dist-packages (2.2.2)\n",
      "Requirement already satisfied: scipy in /usr/local/lib/python3.11/dist-packages (1.15.3)\n",
      "Requirement already satisfied: python-dateutil>=2.8.2 in /usr/local/lib/python3.11/dist-packages (from pandas) (2.9.0.post0)\n",
      "Requirement already satisfied: pytz>=2020.1 in /usr/local/lib/python3.11/dist-packages (from pandas) (2025.2)\n",
      "Requirement already satisfied: tzdata>=2022.7 in /usr/local/lib/python3.11/dist-packages (from pandas) (2025.2)\n",
      "Requirement already satisfied: six>=1.5 in /usr/local/lib/python3.11/dist-packages (from python-dateutil>=2.8.2->pandas) (1.17.0)\n"
     ]
    }
   ],
   "source": [
    "!pip install numpy pandas scipy"
   ]
  },
  {
   "cell_type": "code",
   "execution_count": 19,
   "metadata": {
    "id": "0FmnpeSH-02G"
   },
   "outputs": [],
   "source": [
    "import pandas as pd\n",
    "import numpy as np\n",
    "from statistics import mode\n",
    "from scipy.stats import skew, kurtosis\n",
    "from scipy.stats import ttest_1samp\n",
    "from scipy.stats import chi2_contingency\n",
    "from scipy.stats import f_oneway\n",
    "from scipy.stats import shapiro\n",
    "from scipy.stats import poisson\n",
    "import matplotlib.pyplot as plt\n",
    "import seaborn as sns\n"
   ]
  },
  {
   "cell_type": "markdown",
   "metadata": {
    "id": "dd8U9xg9--wD"
   },
   "source": [
    "**Section A**"
   ]
  },
  {
   "cell_type": "code",
   "execution_count": 3,
   "metadata": {
    "colab": {
     "base_uri": "https://localhost:8080/"
    },
    "id": "TnuKYIlt_BQn",
    "outputId": "acede630-449c-4d37-b61c-e1d547701598"
   },
   "outputs": [
    {
     "name": "stdout",
     "output_type": "stream",
     "text": [
      "Mean: 30.9\n",
      "Median: 30.5\n",
      "Mode: 30\n",
      "\n",
      "After 10% Increase:\n",
      "New Mean: 33.99\n",
      "New Median: 33.55\n",
      "New Mode: 33.0\n"
     ]
    }
   ],
   "source": [
    "# Question 1.)\n",
    "\n",
    "\n",
    "admissions = [32, 28, 35, 30, 29, 27, 31, 34, 33, 30]\n",
    "admissions_series = pd.Series(admissions)\n",
    "\n",
    "# Calculate central tendency\n",
    "mean_val = admissions_series.mean()\n",
    "median_val = admissions_series.median()\n",
    "mode_val = mode(admissions)\n",
    "\n",
    "print(\"Mean:\", mean_val)\n",
    "print(\"Median:\", median_val)\n",
    "print(\"Mode:\", mode_val)\n",
    "\n",
    "# Increase all values by 10%\n",
    "increased_admissions = admissions_series * 1.10\n",
    "\n",
    "# Calculate new central tendency\n",
    "mean_new = increased_admissions.mean()\n",
    "median_new = increased_admissions.median()\n",
    "mode_new = mode(increased_admissions.round())\n",
    "\n",
    "print(\"\\nAfter 10% Increase:\")\n",
    "print(\"New Mean:\", round(mean_new, 2))\n",
    "print(\"New Median:\", round(median_new, 2))\n",
    "print(\"New Mode:\", mode_new)"
   ]
  },
  {
   "cell_type": "code",
   "execution_count": 4,
   "metadata": {
    "colab": {
     "base_uri": "https://localhost:8080/"
    },
    "id": "NZd4zIY6_F7M",
    "outputId": "fad4c5c9-c174-49de-de9e-f5abde33fc90"
   },
   "outputs": [
    {
     "name": "stdout",
     "output_type": "stream",
     "text": [
      "Range: 4\n",
      "Variance: 1.79\n",
      "Standard Deviation: 1.34\n",
      "Updated Standard Deviation (after adding 4 and 10): 1.76\n"
     ]
    }
   ],
   "source": [
    "# Question 2.)\n",
    "\n",
    "recovery_days = [5, 7, 6, 8, 9, 5, 6, 7, 8, 6]\n",
    "recovery_series = pd.Series(recovery_days)\n",
    "\n",
    "# Calculating range, variance, and standard deviation\n",
    "range_val = recovery_series.max() - recovery_series.min()\n",
    "variance_val = recovery_series.var()\n",
    "std_dev_val = recovery_series.std()\n",
    "\n",
    "print(\"Range:\", range_val)\n",
    "print(\"Variance:\", round(variance_val, 2))\n",
    "print(\"Standard Deviation:\", round(std_dev_val, 2))\n",
    "\n",
    "## after adding2 new patients\n",
    "\n",
    "updated_series = recovery_series.tolist() + [4, 10]\n",
    "updated_series = pd.Series(updated_series)\n",
    "updated_std_dev = updated_series.std()\n",
    "\n",
    "print(\"Updated Standard Deviation (after adding 4 and 10):\", round(updated_std_dev, 2))"
   ]
  },
  {
   "cell_type": "markdown",
   "metadata": {
    "id": "NutE81mu_K5X"
   },
   "source": [
    "**Standard Deviation Analysis (after adding 2 new patients having recovering time [4, 10])**-  \n",
    "\n",
    "The original standard deviation indicates moderate variability in recovery times, suggesting most patients recover within a few days of each other.\n",
    "Adding 4 and 10 increases the spread, hence the standard deviation increases, showing more variability in recovery durations."
   ]
  },
  {
   "cell_type": "code",
   "execution_count": 5,
   "metadata": {
    "colab": {
     "base_uri": "https://localhost:8080/"
    },
    "id": "kNImctBX_M8d",
    "outputId": "ec39eeb1-a99b-4fb0-b34a-dab4aa8f2bb3"
   },
   "outputs": [
    {
     "name": "stdout",
     "output_type": "stream",
     "text": [
      "Skewness: -0.04\n",
      "Kurtosis: -1.01\n"
     ]
    }
   ],
   "source": [
    "# Question 3.)\n",
    "scores = [8, 9, 7, 8, 10, 7, 9, 6, 10, 8, 7, 9]\n",
    "scores_series = pd.Series(scores)\n",
    "\n",
    "# Compute skewness and kurtosis\n",
    "score_skewness = skew(scores)\n",
    "score_kurtosis = kurtosis(scores)  # default is Fisher’s (normal = 0)\n",
    "\n",
    "print(\"Skewness:\", round(score_skewness, 2))\n",
    "print(\"Kurtosis:\", round(score_kurtosis, 2))"
   ]
  },
  {
   "cell_type": "markdown",
   "metadata": {
    "id": "7BI5aOmwHOnS"
   },
   "source": [
    "**kewness = -0.04** → very close to 0, indicating almost perfect symmetry.\n",
    "\n",
    "**Kurtosis = -1.01** → slightly platykurtic, meaning the distribution is a bit flatter than a normal bell curve (lighter tails and lower peak).\n",
    "\n",
    "Overall, this suggests the data is approximately normally distributed, with no significant outliers or heavy tails."
   ]
  },
  {
   "cell_type": "markdown",
   "metadata": {
    "id": "6os68ogVHxGH"
   },
   "source": [
    " **What if satisfaction scores shift higher ?**\n",
    " more patients start giving higher scores (closer to 10), the distribution would shift leftward, resulting in negative skewness.\n",
    "This means skewness will decrease further (become more negative) because most values concentrate near 10, and any variation would be on the lower side."
   ]
  },
  {
   "cell_type": "code",
   "execution_count": 7,
   "metadata": {
    "colab": {
     "base_uri": "https://localhost:8080/"
    },
    "id": "ajD3rBEn_lKu",
    "outputId": "4caaabc5-4e13-4254-a761-72937e621655"
   },
   "outputs": [
    {
     "name": "stdout",
     "output_type": "stream",
     "text": [
      "Correlation Coefficient: -1.0\n"
     ]
    }
   ],
   "source": [
    "# Question 4.)\n",
    "\n",
    "nurses = [10, 12, 15, 18, 20, 22]\n",
    "recovery_time = [8, 7, 6, 5, 4, 3]\n",
    "\n",
    "nurse_series = pd.Series(nurses)\n",
    "recovery_series = pd.Series(recovery_time)\n",
    "\n",
    "# Compute Pearson correlation coefficient\n",
    "correlation = nurse_series.corr(recovery_series)\n",
    "\n",
    "print(\"Correlation Coefficient:\", round(correlation, 2))"
   ]
  },
  {
   "cell_type": "markdown",
   "metadata": {
    "id": "Fd_O3pPnJQFX"
   },
   "source": [
    "**Interpretation**\n",
    "The correlation coefficient is -1.0, indicating a perfect negative linear relationship between the number of nurses and patient recovery time.\n",
    "As the number of nurses increases, recovery time consistently decreases.\n",
    "\n",
    "P**rediction after Adding 5 Nurses per Department:**\n",
    "If the hospital increases the number of nurses by 5 in each department (i.e., all values shift upward), the correlation will not change, because correlation is scale-invariant.\n",
    "\n",
    "**But if the current trend continues, we can predict:**\n",
    "\n",
    "Increasing nurse count per department is likely to further reduce average recovery time, continuing the current downward trend."
   ]
  },
  {
   "cell_type": "code",
   "execution_count": null,
   "metadata": {},
   "outputs": [],
   "source": []
  },
  {
   "cell_type": "markdown",
   "metadata": {
    "id": "ITjg__EVKmxi"
   },
   "source": [
    "**Section B**"
   ]
  },
  {
   "cell_type": "markdown",
   "metadata": {
    "id": "oFuervmfKyk7"
   },
   "source": []
  },
  {
   "cell_type": "code",
   "execution_count": 10,
   "metadata": {
    "colab": {
     "base_uri": "https://localhost:8080/"
    },
    "id": "EgXnU4GSJX3m",
    "outputId": "eb735a37-e501-4d7b-f45f-7233830a63da"
   },
   "outputs": [
    {
     "name": "stdout",
     "output_type": "stream",
     "text": [
      "Sample Mean: 30.5\n",
      "t-statistic: 0.52\n",
      "One-tailed p-value: 0.3071\n"
     ]
    }
   ],
   "source": [
    "# Question 5.\n",
    "wait_times = [32, 29, 31, 34, 33, 27, 30, 28, 35, 26]\n",
    "sample_mean = np.mean(wait_times)\n",
    "\n",
    "# Perform one-sample t-test (H0: mean = 30)\n",
    "t_stat, p_value = ttest_1samp(wait_times, popmean=30)\n",
    "\n",
    "# One-tailed test: divide p-value by 2\n",
    "p_value_one_tailed = p_value / 2\n",
    "\n",
    "print(\"Sample Mean:\", round(sample_mean, 2))\n",
    "print(\"t-statistic:\", round(t_stat, 2))\n",
    "print(\"One-tailed p-value:\", round(p_value_one_tailed, 4))"
   ]
  },
  {
   "cell_type": "markdown",
   "metadata": {
    "id": "HLq8Q3AGQuDj"
   },
   "source": [
    "**Interpretation**\n",
    "If p-value < 0.05, reject H₀ → The average wait time significantly exceeds 30 minutes.\n",
    "\n",
    "If p-value ≥ 0.05, fail to reject H₀ → The hospital’s claim is valid.\n",
    "\n",
    "**If Wait Time Is Significantly High — Recommendations:**\n",
    "If the test shows a significant increase in wait time, the hospital could:\n",
    "\n",
    "Increase emergency department staffing during peak hours.\n",
    "\n",
    "Implement a triage prioritization system to fast-track less complex cases.\n",
    "\n",
    "Use a real-time queue monitoring and patient communication system.\n",
    "\n",
    "Analyze arrival patterns to better allocate resources."
   ]
  },
  {
   "cell_type": "code",
   "execution_count": 14,
   "metadata": {
    "colab": {
     "base_uri": "https://localhost:8080/"
    },
    "id": "6crmJcMHRLnk",
    "outputId": "91810996-104b-40d6-f80e-25e9bc3fe895"
   },
   "outputs": [
    {
     "name": "stdout",
     "output_type": "stream",
     "text": [
      "Chi-Square Statistic: 75.0\n",
      "Degrees of Freedom: 2\n",
      "p-value: 0.0\n"
     ]
    }
   ],
   "source": [
    "\n",
    "# Question 6.\n",
    "\n",
    "data = [[90, 10],\n",
    "        [60, 40],\n",
    "        [30, 70]]\n",
    "\n",
    "# Perform Chi-square test\n",
    "chi2_stat, p_value, dof, expected = chi2_contingency(data)\n",
    "\n",
    "print(\"Chi-Square Statistic:\", round(chi2_stat, 2))\n",
    "print(\"Degrees of Freedom:\", dof)\n",
    "print(\"p-value:\", round(p_value, 4))\n"
   ]
  },
  {
   "cell_type": "markdown",
   "metadata": {
    "id": "hNPrTuvDRyKO"
   },
   "source": [
    "**Hypotheses:**\n",
    "H₀ (Null Hypothesis): Cleanliness and patient satisfaction are independent.\n",
    "\n",
    "H₁ (Alternative Hypothesis): Cleanliness and patient satisfaction are dependent.\n",
    "\n",
    "Decision:\n",
    "If p-value < 0.05, reject H₀ → cleanliness and satisfaction are dependent.\n",
    "\n",
    "If p-value ≥ 0.05, fail to reject H₀ → they are independent.\n",
    "\n",
    "**If Cleanliness Improves — What to Expect:**\n",
    "As cleanliness improves (e.g., from Low → Medium → High), we expect the number of satisfied patients to increase, and unsatisfied patients to decrease."
   ]
  },
  {
   "cell_type": "code",
   "execution_count": 16,
   "metadata": {
    "colab": {
     "base_uri": "https://localhost:8080/"
    },
    "id": "e5WyTQm3R37C",
    "outputId": "828c7380-6194-4514-e202-2778777aa3ea"
   },
   "outputs": [
    {
     "name": "stdout",
     "output_type": "stream",
     "text": [
      "F-statistic: 19.19\n",
      "p-value: 0.0002\n"
     ]
    }
   ],
   "source": [
    "# Question 7.\n",
    "\n",
    "treatment_A = [5, 6, 7, 5, 6]\n",
    "treatment_B = [8, 9, 7, 8, 10]\n",
    "treatment_C = [4, 5, 6, 5, 4]\n",
    "\n",
    "# Perform One-Way ANOVA\n",
    "f_stat, p_value = f_oneway(treatment_A, treatment_B, treatment_C)\n",
    "\n",
    "print(\"F-statistic:\", round(f_stat, 2))\n",
    "print(\"p-value:\", round(p_value, 4))\n"
   ]
  },
  {
   "cell_type": "markdown",
   "metadata": {
    "id": "qf027CreTIiD"
   },
   "source": [
    "**Interpretations**\n",
    "Null Hypothesis (H₀):\n",
    "There is no significant difference in mean recovery durations across Treatments A, B, and C.\n",
    "\n",
    "Alternative Hypothesis (H₁):\n",
    "At least one treatment differs significantly in recovery duration.\n",
    "\n",
    "**Decision:**\n",
    "If p-value < 0.05, reject H₀ ⇒ at least one group differs.\n",
    "\n",
    "If p-value ≥ 0.05, fail to reject H₀ ⇒ no statistically significant difference found.\n",
    "\n",
    "**Adding Treatment D**\n",
    "If the hospital wants to introduce Treatment D, it should collect:\n",
    "\n",
    "Recovery durations (in days) from a sample of patients who received Treatment D.\n",
    "\n",
    "Sample size should be comparable (e.g., 5–10 patients) to other groups.\n"
   ]
  },
  {
   "cell_type": "code",
   "execution_count": 18,
   "metadata": {
    "colab": {
     "base_uri": "https://localhost:8080/",
     "height": 445
    },
    "id": "awBw4DlUTVAh",
    "outputId": "bc2191f9-4531-478b-96a0-fd8ea64598bf"
   },
   "outputs": [
    {
     "name": "stdout",
     "output_type": "stream",
     "text": [
      "Shapiro-Wilk Test Statistic: 0.971\n",
      "p-value: 0.9201\n"
     ]
    },
    {
     "data": {
      "image/png": "[encoded data removed]",
      "text/plain": [
       "<Figure size 1000x400 with 1 Axes>"
      ]
     },
     "metadata": {},
     "output_type": "display_data"
    }
   ],
   "source": [
    "# Question 8\n",
    "\n",
    "admin_times = [12, 15, 14, 16, 18, 13, 14, 17, 15, 19, 16, 14]\n",
    "\n",
    "# Shapiro-Wilk Test for Normality\n",
    "stat, p_value = shapiro(admin_times)\n",
    "\n",
    "print(\"Shapiro-Wilk Test Statistic:\", round(stat, 3))\n",
    "print(\"p-value:\", round(p_value, 4))\n",
    "\n",
    "# Visualization\n",
    "plt.figure(figsize=(10,4))\n",
    "sns.histplot(admin_times, kde=True)\n",
    "plt.title(\"Distribution of Hospital Administration Times\")\n",
    "plt.xlabel(\"Administration Time (minutes)\")\n",
    "plt.ylabel(\"Frequency\")\n",
    "plt.grid(True)\n",
    "plt.show()"
   ]
  },
  {
   "cell_type": "markdown",
   "metadata": {
    "id": "8PizjkdkUJk4"
   },
   "source": [
    "**Initial Analysis**\n",
    "Null Hypothesis (H₀):\n",
    "The data follows a normal distribution.\n",
    "\n",
    "Alternative Hypothesis (H₁):\n",
    "The data does not follow a normal distribution.\n",
    "\n",
    "**Decision Rule:**\n",
    "If p-value > 0.05, fail to reject H₀ → data is likely normal.\n",
    "\n",
    "If p-value ≤ 0.05, reject H₀ → data not normally distributed.\n",
    "\n",
    "**Why is this Analysis Important-**\n",
    "Statistical Assumptions: Many healthcare statistical models (t-tests, ANOVA, regression) assume normality.\n",
    "\n",
    "Resource Planning: Knowing if time distributions are normal helps in capacity planning and identifying outliers or bottlenecks.\n",
    "\n",
    "Predictive Modeling: Accurate modeling of service time can improve scheduling and staff allocation.\n",
    "\n",
    "**If Emergency Cases Increase**\n",
    "You would expect greater variability and possibly:\n",
    "\n",
    "Positive skewness (more long-delay cases).\n",
    "\n",
    "A wider spread or long tail in the distribution.\n",
    "\n",
    "Non-normal distribution, requiring non-parametric methods\n"
   ]
  },
  {
   "cell_type": "code",
   "execution_count": 21,
   "metadata": {
    "colab": {
     "base_uri": "https://localhost:8080/",
     "height": 510
    },
    "id": "ZRZ5HpeOUp5f",
    "outputId": "3c01386f-420d-41c3-ed7f-cf4d3ac9dbbd"
   },
   "outputs": [
    {
     "name": "stdout",
     "output_type": "stream",
     "text": [
      "Probability of exactly 3 emergency arrivals in next hour: 0.1404\n"
     ]
    },
    {
     "data": {
      "image/png": "[encoded data removed]",
      "text/plain": [
       "<Figure size 640x480 with 1 Axes>"
      ]
     },
     "metadata": {},
     "output_type": "display_data"
    }
   ],
   "source": [
    "# Question 9.\n",
    "\n",
    "# Average arrival rate (λ)\n",
    "λ = 5\n",
    "\n",
    "# Probability of exactly 3 arrivals\n",
    "prob_3 = poisson.pmf(3, λ)\n",
    "\n",
    "print(f\"Probability of exactly 3 emergency arrivals in next hour: {round(prob_3, 4)}\")\n",
    "\n",
    "# poisson model\n",
    "x = range(0, 16)\n",
    "pmf_values = [poisson.pmf(k, λ) for k in x]\n",
    "\n",
    "# Plot the distribution\n",
    "plt.bar(x, pmf_values)\n",
    "plt.title(\"\\nPoisson Distribution: Emergency Arrivals (λ = 5)\")\n",
    "plt.xlabel(\"Number of Arrivals in 1 Hour\")\n",
    "plt.ylabel(\"Probability\")\n",
    "plt.grid(True)\n",
    "plt.show()"
   ]
  },
  {
   "cell_type": "markdown",
   "metadata": {
    "id": "0RJxCxCoYByo"
   },
   "source": [
    "**If a Major Accident Occurs:**\n",
    "The average arrival rate (λ) would increase sharply.\n",
    "\n",
    "**The distribution would shift rightward, i.e:**\n",
    "\n",
    "Probabilities of higher counts (e.g., 10+) would increase.\n",
    "\n",
    "Lower-count probabilities (like P(X=3)) would decrease.\n",
    "\n",
    "The distribution becomes more spread out (higher variance)."
   ]
  },
  {
   "cell_type": "code",
   "execution_count": 22,
   "metadata": {
    "colab": {
     "base_uri": "https://localhost:8080/",
     "height": 628
    },
    "id": "gvDoBZd8YKUg",
    "outputId": "6898c566-18e4-4d65-bce7-7a50f1e0d394"
   },
   "outputs": [
    {
     "name": "stdout",
     "output_type": "stream",
     "text": [
      "   Surgeries  Frequency  Probability  Weighted\n",
      "0          0          5     0.072464  0.000000\n",
      "1          1         12     0.173913  0.173913\n",
      "2          2         18     0.260870  0.521739\n",
      "3          3          4     0.057971  0.173913\n",
      "4          5         22     0.318841  1.594203\n",
      "5         15          8     0.115942  1.739130\n",
      "\n",
      "Expected number of surgeries per day: 4.2\n"
     ]
    },
    {
     "data": {
      "image/png": "[encoded data removed]",
      "text/plain": [
       "<Figure size 640x480 with 1 Axes>"
      ]
     },
     "metadata": {},
     "output_type": "display_data"
    }
   ],
   "source": [
    "# Question 10.\n",
    "\n",
    "surgeries = [0, 1, 2, 3, 5, 15]\n",
    "frequency = [5, 12, 18, 4, 22, 8]\n",
    "\n",
    "# Create a DataFrame\n",
    "df = pd.DataFrame({'Surgeries': surgeries, 'Frequency': frequency})\n",
    "\n",
    "# Total number of days\n",
    "total_days = df['Frequency'].sum()\n",
    "\n",
    "# Probability distribution (relative frequency)\n",
    "df['Probability'] = df['Frequency'] / total_days\n",
    "\n",
    "# Expected value (mean number of surgeries per day)\n",
    "df['Weighted'] = df['Surgeries'] * df['Probability']\n",
    "expected_value = df['Weighted'].sum()\n",
    "\n",
    "# Displaying dataframe  results\n",
    "print(df)\n",
    "print(\"\\nExpected number of surgeries per day:\", round(expected_value, 2))\n",
    "\n",
    "# Plot the probability distribution\n",
    "plt.bar(df['Surgeries'], df['Probability'])\n",
    "plt.title(\"Estimated Probability Distribution of Surgeries Per Day\")\n",
    "plt.xlabel(\"Number of Surgeries\")\n",
    "plt.ylabel(\"Probability\")\n",
    "plt.grid(True)\n",
    "plt.show()"
   ]
  }
 ],
 "metadata": {
  "colab": {
   "provenance": []
  },
  "kernelspec": {
   "display_name": "Python 3 (ipykernel)",
   "language": "python",
   "name": "python3"
  },
  "language_info": {
   "codemirror_mode": {
    "name": "ipython",
    "version": 3
   },
   "file_extension": ".py",
   "mimetype": "text/x-python",
   "name": "python",
   "nbconvert_exporter": "python",
   "pygments_lexer": "ipython3",
   "version": "3.12.7"
  }
 },
 "nbformat": 4,
 "nbformat_minor": 4
}
